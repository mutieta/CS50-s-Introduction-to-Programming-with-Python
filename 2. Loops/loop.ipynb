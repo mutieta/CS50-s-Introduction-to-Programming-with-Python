{
 "cells": [
  {
   "cell_type": "code",
   "execution_count": 2,
   "id": "37051884",
   "metadata": {},
   "outputs": [
    {
     "name": "stdout",
     "output_type": "stream",
     "text": [
      "meow!\n",
      "meow!\n",
      "meow!\n"
     ]
    }
   ],
   "source": [
    "# While loop\n",
    "\n",
    "\n",
    "i = 0\n",
    "while i < 3:\n",
    "    print(\"meow!\")\n",
    "    i += 1 "
   ]
  },
  {
   "cell_type": "code",
   "execution_count": 15,
   "id": "7463187d",
   "metadata": {},
   "outputs": [
    {
     "name": "stdout",
     "output_type": "stream",
     "text": [
      "meow!\n",
      "meow!\n"
     ]
    }
   ],
   "source": [
    "# For loop\n",
    "\n",
    "# list\n",
    "# for i in [0, 1, 2]:\n",
    "#    print(\"meow!\")\n",
    "\n",
    "# range\n",
    "# for i in range(3):\n",
    "#    print(\"meow!\")\n",
    "\n",
    "# mulpilication\n",
    "# print(\"meow!\" * 3)\n",
    "# print(\"meow! \" * 3)\n",
    "# print(\"meow!\\n\" * 3, end=\"\")\n",
    "\n",
    "meow = int(input(\"how many times nya:? \"))\n",
    "if meow < 0:\n",
    "        print(\"pls enter a positive number nya\")\n",
    "else:\n",
    "        for i in range(meow):\n",
    "            print(\"meow!\")"
   ]
  },
  {
   "cell_type": "code",
   "execution_count": null,
   "id": "7bd32539",
   "metadata": {},
   "outputs": [
    {
     "name": "stdout",
     "output_type": "stream",
     "text": [
      "meow!\n",
      "meow!\n",
      "meow!\n",
      "meow!\n",
      "meow!\n"
     ]
    }
   ],
   "source": [
    "while True:\n",
    "    meow = int(input(\"how many times nya:? \"))\n",
    "    if meow > 0:\n",
    "        break         \n",
    "for _ in range(meow):\n",
    "    print(\"meow!\")\n",
    "            \n",
    "        "
   ]
  },
  {
   "cell_type": "code",
   "execution_count": 22,
   "id": "e0ff1827",
   "metadata": {},
   "outputs": [
    {
     "name": "stdout",
     "output_type": "stream",
     "text": [
      "meow!\n",
      "meow!\n",
      "meow!\n",
      "meow!\n",
      "meow!\n"
     ]
    }
   ],
   "source": [
    "def main():\n",
    "    meow(int(input(\"how many times nya:? \")))\n",
    "    \n",
    "\n",
    "\n",
    "def meow(n):\n",
    "    for _ in range(n):\n",
    "        print(\"meow!\")\n",
    "\n",
    "main()"
   ]
  },
  {
   "cell_type": "code",
   "execution_count": null,
   "id": "1bab7bdd",
   "metadata": {},
   "outputs": [
    {
     "name": "stdout",
     "output_type": "stream",
     "text": [
      "meow!\n",
      "meow!\n",
      "meow!\n"
     ]
    }
   ],
   "source": [
    "def main():\n",
    "    meow = get_meow()\n",
    "    meow_nya(meow)\n",
    "    return\n",
    "\n",
    "def get_meow():\n",
    "    while True:\n",
    "        m = int(input(\"how many times nya:? \"))\n",
    "        if m > 0:\n",
    "            break\n",
    "    return m\n",
    "\n",
    "def meow_nya(m):\n",
    "    for _ in range(m):\n",
    "        print(\"meow!\")\n",
    "    \n",
    "\n",
    "main()"
   ]
  },
  {
   "cell_type": "code",
   "execution_count": null,
   "id": "29b35dcb",
   "metadata": {},
   "outputs": [
    {
     "name": "stdout",
     "output_type": "stream",
     "text": [
      "car\n",
      "cat\n",
      "caor\n"
     ]
    }
   ],
   "source": [
    "# Iteration with lists\n",
    "\n",
    "meows = [\"car\", \"cat\", \"caor\"]\n",
    "\n",
    "for meow in meows:\n",
    "    print(meow)"
   ]
  },
  {
   "cell_type": "code",
   "execution_count": 37,
   "id": "74d73db7",
   "metadata": {},
   "outputs": [
    {
     "name": "stdout",
     "output_type": "stream",
     "text": [
      "1 car\n",
      "2 cat\n",
      "3 caor\n"
     ]
    }
   ],
   "source": [
    "# Len \n",
    "\n",
    "meows = [\"car\", \"cat\", \"caor\"]\n",
    "for i in range(len(meows)):\n",
    "    print(i + 1, meows[i])"
   ]
  },
  {
   "cell_type": "code",
   "execution_count": 42,
   "id": "71d19563",
   "metadata": {},
   "outputs": [
    {
     "name": "stdout",
     "output_type": "stream",
     "text": [
      "Hermione, Gryffindor\n",
      "Harry, Gryffindor\n",
      "Draco, Slytherin\n"
     ]
    }
   ],
   "source": [
    "# Dict \n",
    "\n",
    "students = { \n",
    "    \"Hermione\": \"Gryffindor\", \n",
    "    \"Harry\": \"Gryffindor\", \n",
    "    \"Draco\": \"Slytherin\" \n",
    "}\n",
    "\n",
    "\n",
    "\n",
    "for student in students:\n",
    "    print(student, students[student], sep=\", \")\n"
   ]
  },
  {
   "cell_type": "code",
   "execution_count": null,
   "id": "490246f1",
   "metadata": {},
   "outputs": [],
   "source": [
    "students = [\n",
    "    {\"name\": \"Hermione\", \"house\": \"Gryffindor\", \"patronus\": \"otter\"}, \n",
    "    {\"name\": \"Harry\", \"house\": \"Gryffindor\", \"patronus\": \"stag\"}, \n",
    "    {\"name\": \"Draco\", \"house\": \"Slytherin\", \"patronus\": None}\n",
    "]"
   ]
  }
 ],
 "metadata": {
  "kernelspec": {
   "display_name": "Python 3",
   "language": "python",
   "name": "python3"
  },
  "language_info": {
   "codemirror_mode": {
    "name": "ipython",
    "version": 3
   },
   "file_extension": ".py",
   "mimetype": "text/x-python",
   "name": "python",
   "nbconvert_exporter": "python",
   "pygments_lexer": "ipython3",
   "version": "3.13.3"
  }
 },
 "nbformat": 4,
 "nbformat_minor": 5
}
